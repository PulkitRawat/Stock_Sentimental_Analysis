{
 "cells": [
  {
   "cell_type": "code",
   "execution_count": 62,
   "id": "f2226acf-472e-41c9-9bd9-d60ee1677c95",
   "metadata": {},
   "outputs": [],
   "source": [
    "import requests\n",
    "import pandas as pd\n",
    "import datetime\n",
    "import time\n",
    "import random\n",
    "import re\n",
    "import spacy\n",
    "import yfinance as yf\n",
    "import gensim\n",
    "import numpy as np"
   ]
  },
  {
   "cell_type": "code",
   "execution_count": 81,
   "id": "0f86babb-e150-4ef2-85b7-c686b8f1858d",
   "metadata": {},
   "outputs": [],
   "source": [
    "from bs4 import BeautifulSoup\n",
    "from dateutil.relativedelta import relativedelta\n",
    "from vaderSentiment.vaderSentiment import SentimentIntensityAnalyzer\n",
    "from matplotlib import pyplot as plt\n",
    "from gensim.models import Word2Vec\n",
    "from bertopic import BERTopic\n",
    "from sklearn.preprocessing import LabelEncoder\n",
    "from sklearn.model_selection import trains"
   ]
  },
  {
   "cell_type": "code",
   "execution_count": 79,
   "id": "3cafb586-25a2-47f2-bfe1-b3e0f0f4b5d3",
   "metadata": {},
   "outputs": [],
   "source": [
    "nlp = spacy.load('en_core_web_sm')\n",
    "analyzer = SentimentIntensityAnalyzer()"
   ]
  },
  {
   "cell_type": "markdown",
   "id": "1cbf9130-c962-42f9-8e0a-94093373f097",
   "metadata": {},
   "source": [
    "# Scraping news dataset"
   ]
  },
  {
   "cell_type": "code",
   "execution_count": 4,
   "id": "69b51c4c-f922-44e5-b287-1769b0bfbd3f",
   "metadata": {},
   "outputs": [],
   "source": [
    "def scrape_news(query, start_date, end_date, max_entries = 5):\n",
    "    \"\"\"\n",
    "    Scrapes news articles from Google News RSS for a given query and filters them by data.\n",
    "\n",
    "    Parameters:\n",
    "        query(str): the stock or company name to search for.\n",
    "        start_date(date): the start date for filtering articles.\n",
    "        end_date(date): the end date for filtering articles.\n",
    "        max_entries(int): number of times to retry incase of request failure.\n",
    "\n",
    "    returns:\n",
    "        pd.DataFrame: a dataframe consisting of article title, link, and publication date\n",
    "    \"\"\"\n",
    "    articles = []\n",
    "    url = f\"https://news.google.com/rss/search?q={query}+after:{start_date}+before:{end_date}\"\n",
    "    for i in range(max_entries):\n",
    "        try:\n",
    "            response = requests.get(url)\n",
    "            break\n",
    "        except exception as e:\n",
    "            print(f\"an error occured in requesting {e}\")\n",
    "            print(f\"retrying attempt {i}\")\n",
    "            time.sleep(random.uniform(2,10))\n",
    "        \n",
    "    soup = BeautifulSoup(response.content, 'xml')\n",
    "    items = soup.find_all('item')\n",
    "    \n",
    "    for item in items:\n",
    "        title = item.title.text\n",
    "        link = item.link.text\n",
    "        pub_date = item.pubDate.text\n",
    "        articles.append({'title': title, 'link': link, 'pub_date': pub_date})\n",
    "    return pd.DataFrame(articles)"
   ]
  },
  {
   "cell_type": "code",
   "execution_count": 5,
   "id": "5595a096-9581-4684-9bb0-b09c795591d5",
   "metadata": {},
   "outputs": [],
   "source": [
    "def scrape_news_over_date_range(query, start_date, end_date):\n",
    "    \"\"\"\n",
    "    Scrapes news articles over a given date range by iterating through months.\n",
    "\n",
    "    Parameters:\n",
    "        query(str): The stock or company name to search for.\n",
    "        start_date(str): the start date in 'yyyy-mm-dd' format.\n",
    "        end_date(str): the end date in 'yyyy-mm-dd' format.\n",
    "\n",
    "    Returns:\n",
    "        pd.DataFrame: A DataFrame collected across the date range.\n",
    "    \"\"\"\n",
    "    start_date_dt = datetime.datetime.strptime(start_date, '%Y-%m-%d').date()\n",
    "    end_date_dt = datetime.datetime.strptime(end_date, '%Y-%m-%d').date()\n",
    "\n",
    "    all_articles = pd.DataFrame()\n",
    "\n",
    "    current_date = start_date_dt\n",
    "\n",
    "    while current_date<end_date_dt:\n",
    "        next_date = min(current_date + relativedelta(months = 1), end_date_dt)\n",
    "        \n",
    "        start_str = current_date.strftime('%Y-%m-%d')\n",
    "        end_str = next_date.strftime('%Y-%m-%d')\n",
    "        month_articles = scrape_news(query, start_str, end_str)\n",
    "        all_articles = pd.concat([all_articles, month_articles], ignore_index=True)\n",
    "        current_date = next_date\n",
    "\n",
    "    return all_articles    "
   ]
  },
  {
   "cell_type": "code",
   "execution_count": 6,
   "id": "35a0e72d-41a4-40e1-bd77-0da0a24407cf",
   "metadata": {},
   "outputs": [],
   "source": [
    "def scrape_and_save_news(queries, start_date, end_date):\n",
    "    \"\"\"\n",
    "    Scrapes news articles for mutliple queries over a gives date range and saves each result to a csv file\n",
    "\n",
    "    Parameters:\n",
    "        queries(list): A list of stock or company names to search for.\n",
    "        start_date(str): the start date in 'yyyy-mm-dd' format.\n",
    "        end_date(str): the end date in 'yyyy-mm-dd' format.\n",
    "\n",
    "    Outputs:\n",
    "        CSV files named after each query, containing scraped news articles.\n",
    "    \"\"\"\n",
    "    for query in queries:\n",
    "        articles = scrape_news_over_date_range(query, start_date, end_date)\n",
    "        output_csv = f\"{query}.csv\"\n",
    "        articles.to_csv(output_csv, index=False)\n",
    "        print(f\"Saved {query} articles to {output_csv}\")"
   ]
  },
  {
   "cell_type": "code",
   "execution_count": 7,
   "id": "cb3dbfee-fc46-438b-9224-6f80474d353d",
   "metadata": {},
   "outputs": [
    {
     "name": "stdout",
     "output_type": "stream",
     "text": [
      "Saved Reliance articles to Reliance.csv\n",
      "Saved Microsoft articles to Microsoft.csv\n",
      "Saved Google articles to Google.csv\n"
     ]
    }
   ],
   "source": [
    "queries = [\"Reliance\", \"Microsoft\", \"Google\"]\n",
    "start_date = '2020-01-01'\n",
    "end_date = '2022-12-31'\n",
    "scrape_and_save_news(queries, start_date, end_date)"
   ]
  },
  {
   "cell_type": "code",
   "execution_count": 8,
   "id": "2f7c8244-ba3c-4bcb-9db2-906b13645914",
   "metadata": {},
   "outputs": [],
   "source": [
    "news_df1 = pd.read_csv('Reliance.csv')\n",
    "news_df2 = pd.read_csv('Microsoft.csv')\n",
    "news_df3 = pd.read_csv('Google.csv')"
   ]
  },
  {
   "cell_type": "markdown",
   "id": "f8daea83-2899-449f-a816-4ef36336d2b8",
   "metadata": {},
   "source": [
    "# Pre-Processing"
   ]
  },
  {
   "cell_type": "code",
   "execution_count": 9,
   "id": "f2f62dd0-6c73-4d10-9824-21c27a03d1f6",
   "metadata": {},
   "outputs": [],
   "source": [
    "def clean_text(text: str):\n",
    "    \"\"\"\n",
    "    Cleans the text and returns in form of tokens.\n",
    "\n",
    "    Parameters:\n",
    "    text(str): string to be cleaned.\n",
    "\n",
    "    Returns:\n",
    "    str: a joint of tokens created.\n",
    "    \"\"\"\n",
    "    text = text.lower()\n",
    "    doc = nlp(text.lower())\n",
    "\n",
    "    tokens = [token.lemma_ for token in doc \n",
    "             if not token.is_stop \n",
    "             and not token.is_punct \n",
    "             and token.text not in [\"'\", '\"']]\n",
    "\n",
    "    return ' '.join(tokens)"
   ]
  },
  {
   "cell_type": "code",
   "execution_count": 10,
   "id": "058e4575-f7b7-47e6-9ed9-3c8ce1f122ba",
   "metadata": {},
   "outputs": [],
   "source": [
    "news_df1['cleaned_text'] = news_df1['title'].apply(clean_text)\n",
    "news_df2['cleaned_text'] = news_df2['title'].apply(clean_text)\n",
    "news_df3['cleaned_text'] = news_df3['title'].apply(clean_text)"
   ]
  },
  {
   "cell_type": "markdown",
   "id": "29bd2e92-0eb7-4710-b319-e8aa9e8a7430",
   "metadata": {},
   "source": [
    "# Extracting Stock Prices for supervised training"
   ]
  },
  {
   "cell_type": "code",
   "execution_count": 11,
   "id": "394bb85a-df17-42c3-9adf-16dbb9509229",
   "metadata": {},
   "outputs": [],
   "source": [
    "start_date = '2022-01-01'\n",
    "end_date = '2022-12-31'\n",
    "\n",
    "stock_symbols = {'Reliance': 'RELIANCE.NS', 'Microsoft': 'MSFT', 'Google': 'GOOGL'}\n",
    "\n",
    "date_range = pd.date_range(start = start_date, end = end_date, freq = 'B') # 'B' for business days\n",
    "\n",
    "def fetch_stock_data(symbol:str, max_entries =3):\n",
    "    \"\"\"\n",
    "    fetches stock data from yahoo.\n",
    "\n",
    "    Parameters:\n",
    "    symbol(str): symbol corresponding to the country name.\n",
    "    max_entries(int): no. of retries in fetching if the fetch fails.\n",
    "\n",
    "    Returns: \n",
    "    pd.DataFrame: dataset containing stockprices\n",
    "    \"\"\"\n",
    "    for i in range(max_entries):\n",
    "        try:\n",
    "            stock_data = yf.download(symbol, start= start_date, end= end_date)\n",
    "        except Exception as e:\n",
    "            print (f'error fetching data {e}; retrying attempt {i}.....')\n",
    "        time.sleep(random.uniform(2,5))\n",
    "\n",
    "        return stock_data"
   ]
  },
  {
   "cell_type": "code",
   "execution_count": 12,
   "id": "aa048afd-cda9-4809-b4b3-c0123f4a2707",
   "metadata": {},
   "outputs": [
    {
     "name": "stdout",
     "output_type": "stream",
     "text": [
      "YF.download() has changed argument auto_adjust default to True\n"
     ]
    },
    {
     "name": "stderr",
     "output_type": "stream",
     "text": [
      "[*********************100%***********************]  1 of 1 completed\n",
      "[*********************100%***********************]  1 of 1 completed"
     ]
    },
    {
     "name": "stdout",
     "output_type": "stream",
     "text": [
      "stock_price for Reliance saved\n"
     ]
    },
    {
     "name": "stderr",
     "output_type": "stream",
     "text": [
      "\n",
      "[*********************100%***********************]  1 of 1 completed"
     ]
    },
    {
     "name": "stdout",
     "output_type": "stream",
     "text": [
      "stock_price for Microsoft saved\n"
     ]
    },
    {
     "name": "stderr",
     "output_type": "stream",
     "text": [
      "\n"
     ]
    },
    {
     "name": "stdout",
     "output_type": "stream",
     "text": [
      "stock_price for Google saved\n"
     ]
    }
   ],
   "source": [
    "for company, symbol in stock_symbols.items():\n",
    "    stock_data = fetch_stock_data(symbol)\n",
    "    stock_data.reset_index(inplace = True)\n",
    "    output_csv = f'{company}_stock_prices.csv'\n",
    "    stock_data.to_csv(output_csv, index = False)\n",
    "    print(f\"stock_price for {company} saved\")"
   ]
  },
  {
   "cell_type": "code",
   "execution_count": 13,
   "id": "d5ffdc25-8958-42c1-b486-00bf831a8a0e",
   "metadata": {},
   "outputs": [],
   "source": [
    "stock_df1 = pd.read_csv('Reliance_stock_prices.csv')\n",
    "stock_df2 = pd.read_csv('Microsoft_stock_prices.csv')\n",
    "stock_df3 = pd.read_csv('Google_stock_prices.csv')"
   ]
  },
  {
   "cell_type": "markdown",
   "id": "15f1cf0c-4546-46e1-842f-44068aafad40",
   "metadata": {},
   "source": [
    "# Sentiment Scores"
   ]
  },
  {
   "cell_type": "code",
   "execution_count": 14,
   "id": "52493ee1-be40-4118-a04d-8ee956bd0ce5",
   "metadata": {},
   "outputs": [],
   "source": [
    "news_df1['sentiment'] = news_df1['cleaned_text'].apply(lambda x: analyzer.polarity_scores(x)['compound'])\n",
    "news_df2['sentiment'] = news_df2['cleaned_text'].apply(lambda x: analyzer.polarity_scores(x)['compound'])\n",
    "news_df3['sentiment'] = news_df3['cleaned_text'].apply(lambda x: analyzer.polarity_scores(x)['compound'])"
   ]
  },
  {
   "cell_type": "markdown",
   "id": "6de9eb58-9459-4bc4-9aab-e39a46243603",
   "metadata": {},
   "source": [
    "# Merging the needed dataset"
   ]
  },
  {
   "cell_type": "code",
   "execution_count": 15,
   "id": "8dc54093-cb0b-494f-8614-33a7a4ce5681",
   "metadata": {},
   "outputs": [],
   "source": [
    "def merge_data(news_df:pd.DataFrame, stock_df:pd.DataFrame, company:str):\n",
    "    \"\"\"\n",
    "    Merge the news dataframe with stock prices dataframe for every company\n",
    "\n",
    "    Parametes:\n",
    "        news_df(pd.DataFrame): dataframe containing the features.\n",
    "        stock_df(pd.DataFrame): dataframe containing the the stock prices\n",
    "        company(str): company to which the dataframes belong to.\n",
    "\n",
    "    Output:\n",
    "        Saves csv file of merged pdf under the name  \"merged_data_{company}.csv\".\n",
    "    \"\"\"\n",
    "    news_df['pub_date'] = pd.to_datetime(news_df['pub_date']).dt.date\n",
    "    stock_df['Date'] = pd.to_datetime(news_df['pub_date']).dt.date\n",
    "\n",
    "    merged_df = pd.merge(news_df, stock_df, left_on = 'pub_date', right_on = 'Date', how = 'inner')\n",
    "\n",
    "    output_csv = f'merged_data_{company}.csv'\n",
    "    merged_df.to_csv(output_csv, index = False)\n",
    "    print(f\"merged data for company: {company}\")"
   ]
  },
  {
   "cell_type": "code",
   "execution_count": 16,
   "id": "e960cba0-334d-4127-ba36-c94c8238c0e9",
   "metadata": {},
   "outputs": [
    {
     "name": "stdout",
     "output_type": "stream",
     "text": [
      "merged data for company: Reliance\n",
      "merged data for company: Microsoft\n",
      "merged data for company: Google\n"
     ]
    }
   ],
   "source": [
    "merge_data(news_df1, stock_df1, 'Reliance')\n",
    "merge_data(news_df2, stock_df2, 'Microsoft')\n",
    "merge_data(news_df3, stock_df3, 'Google')"
   ]
  },
  {
   "cell_type": "code",
   "execution_count": 85,
   "id": "36d943ed-e102-4727-91eb-e68efca9231f",
   "metadata": {},
   "outputs": [],
   "source": [
    "df1 = pd.read_csv('merged_data_Reliance.csv')\n",
    "df2 = pd.read_csv('merged_data_Microsoft.csv')\n",
    "df3 = pd.read_csv('merged_data_Google.csv')"
   ]
  },
  {
   "cell_type": "code",
   "execution_count": 86,
   "id": "9e1501a4-0b10-4d96-9a98-cb165eaef3cc",
   "metadata": {
    "scrolled": true
   },
   "outputs": [
    {
     "data": {
      "image/png": "[encoded data removed]",
      "text/plain": [
       "<Figure size 640x480 with 1 Axes>"
      ]
     },
     "metadata": {},
     "output_type": "display_data"
    },
    {
     "data": {
      "text/plain": [
       "<Figure size 10000x500 with 0 Axes>"
      ]
     },
     "metadata": {},
     "output_type": "display_data"
    },
    {
     "data": {
      "image/png": "[encoded data removed]",
      "text/plain": [
       "<Figure size 640x480 with 1 Axes>"
      ]
     },
     "metadata": {},
     "output_type": "display_data"
    },
    {
     "data": {
      "text/plain": [
       "<Figure size 10000x500 with 0 Axes>"
      ]
     },
     "metadata": {},
     "output_type": "display_data"
    },
    {
     "data": {
      "image/png": "[encoded data removed]",
      "text/plain": [
       "<Figure size 640x480 with 1 Axes>"
      ]
     },
     "metadata": {},
     "output_type": "display_data"
    },
    {
     "data": {
      "text/plain": [
       "<Figure size 10000x500 with 0 Axes>"
      ]
     },
     "metadata": {},
     "output_type": "display_data"
    }
   ],
   "source": [
    "queries = {'Reliance': df1, 'Microsoft': df2, 'Google': df3}\n",
    "for query, df in queries.items():\n",
    "    plt.plot(df['Date'], df['sentiment'])\n",
    "    plt.title(f'Sentiment over time for {query}')\n",
    "    plt.xlabel('Date')\n",
    "    plt.ylabel('Sentimemet')\n",
    "    plt.figure(figsize = (100,5))\n",
    "    plt.show()\n",
    "   "
   ]
  },
  {
   "cell_type": "markdown",
   "id": "a67d8a00-3336-4f55-812a-07df44b1963a",
   "metadata": {},
   "source": [
    "# Getting the labels"
   ]
  },
  {
   "cell_type": "code",
   "execution_count": 87,
   "id": "966828cf-7679-47bd-af75-357818fd666e",
   "metadata": {},
   "outputs": [],
   "source": [
    "def calculate_price_movement(df: pd.DataFrame, condition: str):\n",
    "    \"\"\"\n",
    "    Adds a new column to the DataFrame indicating stock price movement over a specified time period.\n",
    "\n",
    "    Parameters:\n",
    "        df (pd.DataFrame): A DataFrame containing merged stock and news data.\n",
    "        condition (str): Specifies the time period for price change calculation.\n",
    "            - 'daily': Price change over one day.\n",
    "            - 'weekly': Price change over one week.\n",
    "            - 'monthly': Price change over one month.\n",
    "\n",
    "    Returns:\n",
    "        pd.DataFrame: The updated DataFrame with a new column \"{conditon}_movement\" representing price movement.\n",
    "    \"\"\"\n",
    "    \n",
    "    df['Date'] = pd.to_datetime(df['Date']).dt.date\n",
    "    df = df.sort_values(by = 'Date')\n",
    "\n",
    "    if condition =='daily':\n",
    "        df['daily_movement'] =  None\n",
    "        last_price = {}\n",
    "        for i in range(len(df)):\n",
    "            current_date= df.loc[i, 'Date']\n",
    "            current_price = df.loc[i, 'Close']\n",
    "            last_date = max([d for d in last_price.keys() if d<current_date], default = None)\n",
    "            if last_date:\n",
    "                df.loc[i, 'daily_movement'] = (\n",
    "                    'increase' if current_price>last_price[last_date] else\n",
    "                    'decrease' if current_price<last_price[last_date] else\n",
    "                    'same'\n",
    "                ) \n",
    "            last_price[current_date] = current_price\n",
    "        return df\n",
    "        \n",
    "    elif condition == 'weekly':\n",
    "        df['weekly_movement'] = None\n",
    "        last_week_end = None\n",
    "\n",
    "        for week_start in sorted(df['Date'].unique()):\n",
    "            week_end = week_start+pd.Timedelta(days = 6)\n",
    "            past_week_prices = df[(df['Date']>=last_week_end) & (df['Date']<week_start)]['Close']\n",
    "            new_week_prices = df[(df['Date']>=week_start) & (df['Date']<=week_end)]['Close']\n",
    "\n",
    "            if not past_week_prices.empty and not new_week_prices.empty:\n",
    "                past_week_price = past_week_prices.iloc[-1]\n",
    "                new_week_price = new_week_prices.iloc[-1]\n",
    "\n",
    "                df.loc[df['Date']==week_start, 'weekly_movement'] = (\n",
    "                    'increase' if new_week_price>past_week_price else\n",
    "                    'decrease' if new_week_price<past_week_price else\n",
    "                    'same'\n",
    "                )\n",
    "            last_week_end = week_end\n",
    "        return df\n",
    "            \n",
    "    elif condition == 'monthly':\n",
    "        df['monthly_movement'] = None\n",
    "        last_month_end = None\n",
    "        for month_start in sorted(df['Date'].unique()):\n",
    "            month_end = month_start + relativedelta(months=1)-pd.Timedelta(days=1)\n",
    "            past_month_prices = df[(df['Date']>=last_month_end) & (df['Date']< month_start)]['Close']\n",
    "            new_month_prices = df[(df['Date']>=month_start) & (df['Date']<=month_end)]['Close']\n",
    "\n",
    "            if not past_month_prices.empty and not new_month_prices.empty:\n",
    "                past_month_price = past_month_prices.iloc[-1]\n",
    "                new_month_price = new_month_prices.iloc[-1]\n",
    "\n",
    "                df.loc[df['Date']==week_start, 'monthly_movement'] = (\n",
    "                    'increase' if past_month_price<new_month_price else\n",
    "                    'decrease' if past_month_price>new_month_price else\n",
    "                    'same'\n",
    "                )\n",
    "            last_month_end = month_end\n",
    "        return df\n",
    "    else:\n",
    "        raise ValueError(f\"Invalid condition '{condition}'. Expected one of these: ['daily', 'weekly', 'monthly'].\")\n",
    "        return\n",
    "        "
   ]
  },
  {
   "cell_type": "code",
   "execution_count": 88,
   "id": "065b4984-ac85-4238-9add-e4f025a6348a",
   "metadata": {
    "scrolled": true
   },
   "outputs": [],
   "source": [
    "df_1 = calculate_price_movement(df1, 'daily')\n",
    "df_1.dropna(subset=['daily_movement'], inplace=True)\n",
    "df_2 = calculate_price_movement(df2, 'daily')\n",
    "df_2.dropna(subset=['daily_movement'], inplace=True)\n",
    "df_3 = calculate_price_movement(df3, 'daily')\n",
    "df_3.dropna(subset=['daily_movement'], inplace=True)"
   ]
  },
  {
   "cell_type": "markdown",
   "id": "7cfb3257-995a-497c-a5b5-8ce2326589db",
   "metadata": {},
   "source": [
    "# Feature Extraction"
   ]
  },
  {
   "cell_type": "markdown",
   "id": "e6ff60b6-3a29-47c1-8d6f-9d78bdd4c456",
   "metadata": {},
   "source": [
    "## Word2Vec"
   ]
  },
  {
   "cell_type": "code",
   "execution_count": 89,
   "id": "98bf9410-2947-4671-a3f2-becb1645aa71",
   "metadata": {},
   "outputs": [],
   "source": [
    "df_1['tokenized_text'] = df_1['cleaned_text'].apply(lambda x: x.split())\n",
    "df_2['tokenized_text'] = df_2['cleaned_text'].apply(lambda x: x.split())\n",
    "df_3['tokenized_text'] = df_3['cleaned_text'].apply(lambda x: x.split())"
   ]
  },
  {
   "cell_type": "code",
   "execution_count": 90,
   "id": "73fb91da-2adc-406b-827b-e6a0c92cba45",
   "metadata": {},
   "outputs": [],
   "source": [
    "def get_word2vec_embedding(text:list, model, vector_size = 20):\n",
    "    \"\"\"\n",
    "    Coverts the sentences into a fixed size vector by averaging the word2vec embeddings of its words\n",
    "\n",
    "    Parameters:\n",
    "        text(list): list of tokenized words.\n",
    "        model(word2vec): trained word2vec model\n",
    "        vector_size(int): size of the word embedding\n",
    "\n",
    "    Returns:\n",
    "        np.array: Sentence embedding vector.\n",
    "    \"\"\"\n",
    "\n",
    "    words = [word for word in text if word in model.wv]\n",
    "    if not words:\n",
    "        return np.zeros(vector.size)\n",
    "    return np.mean([model.wv[word] for word in words], axis = 0)"
   ]
  },
  {
   "cell_type": "code",
   "execution_count": 91,
   "id": "65c858cb-e98e-4050-baff-b33f9cdfb22a",
   "metadata": {
    "scrolled": true
   },
   "outputs": [],
   "source": [
    "word2vec_model1 = Word2Vec(sentences = df_1['tokenized_text'], vector_size = 100, window =5, min_count =2, workers = 4)\n",
    "word2vec_model2 = Word2Vec(sentences = df_2['tokenized_text'], vector_size = 100, window =5, min_count =2, workers = 4)\n",
    "word2vec_model3 = Word2Vec(sentences = df_3['tokenized_text'], vector_size = 100, window =5, min_count =2, workers = 4)\n",
    "\n",
    "df_1['embedding'] = df_1['tokenized_text'].apply(lambda x: get_word2vec_embedding(x, word2vec_model1))\n",
    "df_2['embedding'] = df_2['tokenized_text'].apply(lambda x: get_word2vec_embedding(x, word2vec_model2))\n",
    "df_3['embedding'] = df_3['tokenized_text'].apply(lambda x: get_word2vec_embedding(x, word2vec_model3))"
   ]
  },
  {
   "cell_type": "markdown",
   "id": "8b330cde-a2a7-414c-ac99-42ae0d33e55d",
   "metadata": {},
   "source": [
    "## BERTopic "
   ]
  },
  {
   "cell_type": "code",
   "execution_count": 92,
   "id": "d1ebc71d-65b8-4b0e-ae51-a4ff1d0ad650",
   "metadata": {
    "scrolled": true
   },
   "outputs": [],
   "source": [
    "bertopic_model_1 = BERTopic(nr_topics = 'auto')\n",
    "topics_1, _ = bertopic_model_1.fit_transform(df_1['cleaned_text'])\n",
    "df_1['topic'] = topics_1\n",
    "bertopic_model_2 = BERTopic(nr_topics = 'auto')\n",
    "topics_2, __ = bertopic_model_2.fit_transform(df_2['cleaned_text'])\n",
    "df_2['topic'] = topics_2\n",
    "bertopic_model_3 = BERTopic(nr_topics = 'auto')\n",
    "topics_3, ___ = bertopic_model_3.fit_transform(df_3['cleaned_text'])\n",
    "df_3['topic'] = topics_3"
   ]
  },
  {
   "cell_type": "markdown",
   "id": "4325b48f-0a9f-4ace-9d29-ee6283f5da82",
   "metadata": {},
   "source": [
    "# Label Encoding "
   ]
  },
  {
   "cell_type": "code",
   "execution_count": 93,
   "id": "c6eb5c56-aa59-47d5-9429-163f9e9c18e6",
   "metadata": {},
   "outputs": [],
   "source": [
    "data = pd.concat([df_1, df_2, df_3], ignore_index = True)\n",
    "label_encoder = LabelEncoder()\n",
    "\n",
    "data['labels'] = label_encoder.fit_transform(data['daily_movement'])"
   ]
  },
  {
   "cell_type": "markdown",
   "id": "f17b689b-4071-4abc-a9ca-cc5b6c27b72b",
   "metadata": {},
   "source": [
    "# Model Traning"
   ]
  },
  {
   "cell_type": "markdown",
   "id": "a86886cf-1ab1-433a-87b4-8c69a771b482",
   "metadata": {},
   "source": [
    "## Test_train split"
   ]
  },
  {
   "cell_type": "code",
   "execution_count": 94,
   "id": "647737a7-1ff6-43d0-993e-f3ad3368fbd4",
   "metadata": {},
   "outputs": [],
   "source": [
    "X = data[['sentiment', 'embedding', 'topic']].copy()\n",
    "y = data['labels']"
   ]
  },
  {
   "cell_type": "code",
   "execution_count": 95,
   "id": "753f663b-68e6-4489-9149-c73505d7e21b",
   "metadata": {},
   "outputs": [
    {
     "data": {
      "text/html": [
       "<div>\n",
       "<style scoped>\n",
       "    .dataframe tbody tr th:only-of-type {\n",
       "        vertical-align: middle;\n",
       "    }\n",
       "\n",
       "    .dataframe tbody tr th {\n",
       "        vertical-align: top;\n",
       "    }\n",
       "\n",
       "    .dataframe thead th {\n",
       "        text-align: right;\n",
       "    }\n",
       "</style>\n",
       "<table border=\"1\" class=\"dataframe\">\n",
       "  <thead>\n",
       "    <tr style=\"text-align: right;\">\n",
       "      <th></th>\n",
       "      <th>sentiment</th>\n",
       "      <th>topic</th>\n",
       "      <th>word2vec_0</th>\n",
       "      <th>word2vec_1</th>\n",
       "      <th>word2vec_2</th>\n",
       "      <th>word2vec_3</th>\n",
       "      <th>word2vec_4</th>\n",
       "      <th>word2vec_5</th>\n",
       "      <th>word2vec_6</th>\n",
       "      <th>word2vec_7</th>\n",
       "      <th>...</th>\n",
       "      <th>word2vec_90</th>\n",
       "      <th>word2vec_91</th>\n",
       "      <th>word2vec_92</th>\n",
       "      <th>word2vec_93</th>\n",
       "      <th>word2vec_94</th>\n",
       "      <th>word2vec_95</th>\n",
       "      <th>word2vec_96</th>\n",
       "      <th>word2vec_97</th>\n",
       "      <th>word2vec_98</th>\n",
       "      <th>word2vec_99</th>\n",
       "    </tr>\n",
       "  </thead>\n",
       "  <tbody>\n",
       "    <tr>\n",
       "      <th>0</th>\n",
       "      <td>-0.2732</td>\n",
       "      <td>5</td>\n",
       "      <td>-0.163594</td>\n",
       "      <td>0.324581</td>\n",
       "      <td>-0.080207</td>\n",
       "      <td>0.100541</td>\n",
       "      <td>0.052676</td>\n",
       "      <td>-0.403764</td>\n",
       "      <td>0.102313</td>\n",
       "      <td>0.694852</td>\n",
       "      <td>...</td>\n",
       "      <td>0.223068</td>\n",
       "      <td>0.132680</td>\n",
       "      <td>0.040994</td>\n",
       "      <td>0.124034</td>\n",
       "      <td>0.540155</td>\n",
       "      <td>0.408099</td>\n",
       "      <td>0.093115</td>\n",
       "      <td>-0.157769</td>\n",
       "      <td>0.106868</td>\n",
       "      <td>-0.097385</td>\n",
       "    </tr>\n",
       "    <tr>\n",
       "      <th>1</th>\n",
       "      <td>0.4404</td>\n",
       "      <td>0</td>\n",
       "      <td>-0.121192</td>\n",
       "      <td>0.231400</td>\n",
       "      <td>-0.057212</td>\n",
       "      <td>0.074029</td>\n",
       "      <td>0.038199</td>\n",
       "      <td>-0.290161</td>\n",
       "      <td>0.075813</td>\n",
       "      <td>0.497588</td>\n",
       "      <td>...</td>\n",
       "      <td>0.157004</td>\n",
       "      <td>0.095941</td>\n",
       "      <td>0.026200</td>\n",
       "      <td>0.088583</td>\n",
       "      <td>0.387029</td>\n",
       "      <td>0.287737</td>\n",
       "      <td>0.071966</td>\n",
       "      <td>-0.111718</td>\n",
       "      <td>0.080098</td>\n",
       "      <td>-0.070476</td>\n",
       "    </tr>\n",
       "    <tr>\n",
       "      <th>2</th>\n",
       "      <td>0.4404</td>\n",
       "      <td>0</td>\n",
       "      <td>-0.121192</td>\n",
       "      <td>0.231400</td>\n",
       "      <td>-0.057212</td>\n",
       "      <td>0.074029</td>\n",
       "      <td>0.038199</td>\n",
       "      <td>-0.290161</td>\n",
       "      <td>0.075813</td>\n",
       "      <td>0.497588</td>\n",
       "      <td>...</td>\n",
       "      <td>0.157004</td>\n",
       "      <td>0.095941</td>\n",
       "      <td>0.026200</td>\n",
       "      <td>0.088583</td>\n",
       "      <td>0.387029</td>\n",
       "      <td>0.287737</td>\n",
       "      <td>0.071966</td>\n",
       "      <td>-0.111718</td>\n",
       "      <td>0.080098</td>\n",
       "      <td>-0.070476</td>\n",
       "    </tr>\n",
       "    <tr>\n",
       "      <th>3</th>\n",
       "      <td>0.0000</td>\n",
       "      <td>0</td>\n",
       "      <td>-0.095849</td>\n",
       "      <td>0.190861</td>\n",
       "      <td>-0.047304</td>\n",
       "      <td>0.056820</td>\n",
       "      <td>0.028875</td>\n",
       "      <td>-0.236108</td>\n",
       "      <td>0.057605</td>\n",
       "      <td>0.398151</td>\n",
       "      <td>...</td>\n",
       "      <td>0.127538</td>\n",
       "      <td>0.075282</td>\n",
       "      <td>0.020854</td>\n",
       "      <td>0.069981</td>\n",
       "      <td>0.309907</td>\n",
       "      <td>0.234938</td>\n",
       "      <td>0.056468</td>\n",
       "      <td>-0.089469</td>\n",
       "      <td>0.058155</td>\n",
       "      <td>-0.052869</td>\n",
       "    </tr>\n",
       "    <tr>\n",
       "      <th>4</th>\n",
       "      <td>0.0000</td>\n",
       "      <td>0</td>\n",
       "      <td>-0.095849</td>\n",
       "      <td>0.190861</td>\n",
       "      <td>-0.047304</td>\n",
       "      <td>0.056820</td>\n",
       "      <td>0.028875</td>\n",
       "      <td>-0.236108</td>\n",
       "      <td>0.057605</td>\n",
       "      <td>0.398151</td>\n",
       "      <td>...</td>\n",
       "      <td>0.127538</td>\n",
       "      <td>0.075282</td>\n",
       "      <td>0.020854</td>\n",
       "      <td>0.069981</td>\n",
       "      <td>0.309907</td>\n",
       "      <td>0.234938</td>\n",
       "      <td>0.056468</td>\n",
       "      <td>-0.089469</td>\n",
       "      <td>0.058155</td>\n",
       "      <td>-0.052869</td>\n",
       "    </tr>\n",
       "    <tr>\n",
       "      <th>...</th>\n",
       "      <td>...</td>\n",
       "      <td>...</td>\n",
       "      <td>...</td>\n",
       "      <td>...</td>\n",
       "      <td>...</td>\n",
       "      <td>...</td>\n",
       "      <td>...</td>\n",
       "      <td>...</td>\n",
       "      <td>...</td>\n",
       "      <td>...</td>\n",
       "      <td>...</td>\n",
       "      <td>...</td>\n",
       "      <td>...</td>\n",
       "      <td>...</td>\n",
       "      <td>...</td>\n",
       "      <td>...</td>\n",
       "      <td>...</td>\n",
       "      <td>...</td>\n",
       "      <td>...</td>\n",
       "      <td>...</td>\n",
       "      <td>...</td>\n",
       "    </tr>\n",
       "    <tr>\n",
       "      <th>3885</th>\n",
       "      <td>0.1779</td>\n",
       "      <td>4</td>\n",
       "      <td>-0.049434</td>\n",
       "      <td>0.092027</td>\n",
       "      <td>0.064009</td>\n",
       "      <td>0.109940</td>\n",
       "      <td>-0.001180</td>\n",
       "      <td>-0.109822</td>\n",
       "      <td>-0.002653</td>\n",
       "      <td>0.227661</td>\n",
       "      <td>...</td>\n",
       "      <td>0.129268</td>\n",
       "      <td>0.010558</td>\n",
       "      <td>0.009608</td>\n",
       "      <td>0.014325</td>\n",
       "      <td>0.201353</td>\n",
       "      <td>0.173744</td>\n",
       "      <td>0.037659</td>\n",
       "      <td>-0.116438</td>\n",
       "      <td>0.052976</td>\n",
       "      <td>0.003658</td>\n",
       "    </tr>\n",
       "    <tr>\n",
       "      <th>3886</th>\n",
       "      <td>0.6249</td>\n",
       "      <td>0</td>\n",
       "      <td>-0.100382</td>\n",
       "      <td>0.222078</td>\n",
       "      <td>0.143256</td>\n",
       "      <td>0.257421</td>\n",
       "      <td>-0.006440</td>\n",
       "      <td>-0.260751</td>\n",
       "      <td>-0.001627</td>\n",
       "      <td>0.545611</td>\n",
       "      <td>...</td>\n",
       "      <td>0.310243</td>\n",
       "      <td>0.023790</td>\n",
       "      <td>0.008441</td>\n",
       "      <td>0.040805</td>\n",
       "      <td>0.478632</td>\n",
       "      <td>0.393847</td>\n",
       "      <td>0.069227</td>\n",
       "      <td>-0.260676</td>\n",
       "      <td>0.131884</td>\n",
       "      <td>-0.004499</td>\n",
       "    </tr>\n",
       "    <tr>\n",
       "      <th>3887</th>\n",
       "      <td>-0.3400</td>\n",
       "      <td>2</td>\n",
       "      <td>-0.065381</td>\n",
       "      <td>0.143690</td>\n",
       "      <td>0.096227</td>\n",
       "      <td>0.167962</td>\n",
       "      <td>-0.000988</td>\n",
       "      <td>-0.172238</td>\n",
       "      <td>0.001266</td>\n",
       "      <td>0.351899</td>\n",
       "      <td>...</td>\n",
       "      <td>0.201097</td>\n",
       "      <td>0.015962</td>\n",
       "      <td>0.008896</td>\n",
       "      <td>0.023221</td>\n",
       "      <td>0.309960</td>\n",
       "      <td>0.257333</td>\n",
       "      <td>0.046596</td>\n",
       "      <td>-0.166738</td>\n",
       "      <td>0.082930</td>\n",
       "      <td>-0.001453</td>\n",
       "    </tr>\n",
       "    <tr>\n",
       "      <th>3888</th>\n",
       "      <td>0.0000</td>\n",
       "      <td>-1</td>\n",
       "      <td>-0.086874</td>\n",
       "      <td>0.178457</td>\n",
       "      <td>0.123123</td>\n",
       "      <td>0.212528</td>\n",
       "      <td>-0.006854</td>\n",
       "      <td>-0.211593</td>\n",
       "      <td>0.004532</td>\n",
       "      <td>0.441858</td>\n",
       "      <td>...</td>\n",
       "      <td>0.251732</td>\n",
       "      <td>0.018681</td>\n",
       "      <td>0.008786</td>\n",
       "      <td>0.031630</td>\n",
       "      <td>0.395948</td>\n",
       "      <td>0.323254</td>\n",
       "      <td>0.057229</td>\n",
       "      <td>-0.219628</td>\n",
       "      <td>0.100922</td>\n",
       "      <td>0.000645</td>\n",
       "    </tr>\n",
       "    <tr>\n",
       "      <th>3889</th>\n",
       "      <td>0.0000</td>\n",
       "      <td>3</td>\n",
       "      <td>-0.076468</td>\n",
       "      <td>0.157644</td>\n",
       "      <td>0.104700</td>\n",
       "      <td>0.189482</td>\n",
       "      <td>-0.005503</td>\n",
       "      <td>-0.186765</td>\n",
       "      <td>0.002229</td>\n",
       "      <td>0.385650</td>\n",
       "      <td>...</td>\n",
       "      <td>0.221504</td>\n",
       "      <td>0.019205</td>\n",
       "      <td>0.008216</td>\n",
       "      <td>0.027964</td>\n",
       "      <td>0.345907</td>\n",
       "      <td>0.282662</td>\n",
       "      <td>0.049933</td>\n",
       "      <td>-0.187058</td>\n",
       "      <td>0.098099</td>\n",
       "      <td>0.000018</td>\n",
       "    </tr>\n",
       "  </tbody>\n",
       "</table>\n",
       "<p>3890 rows × 102 columns</p>\n",
       "</div>"
      ],
      "text/plain": [
       "      sentiment  topic  word2vec_0  word2vec_1  word2vec_2  word2vec_3   \n",
       "0       -0.2732      5   -0.163594    0.324581   -0.080207    0.100541  \\\n",
       "1        0.4404      0   -0.121192    0.231400   -0.057212    0.074029   \n",
       "2        0.4404      0   -0.121192    0.231400   -0.057212    0.074029   \n",
       "3        0.0000      0   -0.095849    0.190861   -0.047304    0.056820   \n",
       "4        0.0000      0   -0.095849    0.190861   -0.047304    0.056820   \n",
       "...         ...    ...         ...         ...         ...         ...   \n",
       "3885     0.1779      4   -0.049434    0.092027    0.064009    0.109940   \n",
       "3886     0.6249      0   -0.100382    0.222078    0.143256    0.257421   \n",
       "3887    -0.3400      2   -0.065381    0.143690    0.096227    0.167962   \n",
       "3888     0.0000     -1   -0.086874    0.178457    0.123123    0.212528   \n",
       "3889     0.0000      3   -0.076468    0.157644    0.104700    0.189482   \n",
       "\n",
       "      word2vec_4  word2vec_5  word2vec_6  word2vec_7  ...  word2vec_90   \n",
       "0       0.052676   -0.403764    0.102313    0.694852  ...     0.223068  \\\n",
       "1       0.038199   -0.290161    0.075813    0.497588  ...     0.157004   \n",
       "2       0.038199   -0.290161    0.075813    0.497588  ...     0.157004   \n",
       "3       0.028875   -0.236108    0.057605    0.398151  ...     0.127538   \n",
       "4       0.028875   -0.236108    0.057605    0.398151  ...     0.127538   \n",
       "...          ...         ...         ...         ...  ...          ...   \n",
       "3885   -0.001180   -0.109822   -0.002653    0.227661  ...     0.129268   \n",
       "3886   -0.006440   -0.260751   -0.001627    0.545611  ...     0.310243   \n",
       "3887   -0.000988   -0.172238    0.001266    0.351899  ...     0.201097   \n",
       "3888   -0.006854   -0.211593    0.004532    0.441858  ...     0.251732   \n",
       "3889   -0.005503   -0.186765    0.002229    0.385650  ...     0.221504   \n",
       "\n",
       "      word2vec_91  word2vec_92  word2vec_93  word2vec_94  word2vec_95   \n",
       "0        0.132680     0.040994     0.124034     0.540155     0.408099  \\\n",
       "1        0.095941     0.026200     0.088583     0.387029     0.287737   \n",
       "2        0.095941     0.026200     0.088583     0.387029     0.287737   \n",
       "3        0.075282     0.020854     0.069981     0.309907     0.234938   \n",
       "4        0.075282     0.020854     0.069981     0.309907     0.234938   \n",
       "...           ...          ...          ...          ...          ...   \n",
       "3885     0.010558     0.009608     0.014325     0.201353     0.173744   \n",
       "3886     0.023790     0.008441     0.040805     0.478632     0.393847   \n",
       "3887     0.015962     0.008896     0.023221     0.309960     0.257333   \n",
       "3888     0.018681     0.008786     0.031630     0.395948     0.323254   \n",
       "3889     0.019205     0.008216     0.027964     0.345907     0.282662   \n",
       "\n",
       "      word2vec_96  word2vec_97  word2vec_98  word2vec_99  \n",
       "0        0.093115    -0.157769     0.106868    -0.097385  \n",
       "1        0.071966    -0.111718     0.080098    -0.070476  \n",
       "2        0.071966    -0.111718     0.080098    -0.070476  \n",
       "3        0.056468    -0.089469     0.058155    -0.052869  \n",
       "4        0.056468    -0.089469     0.058155    -0.052869  \n",
       "...           ...          ...          ...          ...  \n",
       "3885     0.037659    -0.116438     0.052976     0.003658  \n",
       "3886     0.069227    -0.260676     0.131884    -0.004499  \n",
       "3887     0.046596    -0.166738     0.082930    -0.001453  \n",
       "3888     0.057229    -0.219628     0.100922     0.000645  \n",
       "3889     0.049933    -0.187058     0.098099     0.000018  \n",
       "\n",
       "[3890 rows x 102 columns]"
      ]
     },
     "execution_count": 95,
     "metadata": {},
     "output_type": "execute_result"
    }
   ],
   "source": [
    "word2vec_features = np.vstack(X['embedding'].values)\n",
    "\n",
    "X.drop(columns = ['embedding'], inplace = True)\n",
    "word2vec_features_names = [f'word2vec_{i}' for i in range(word2vec_features.shape[1])]\n",
    "X.join(pd.DataFrame(word2vec_features, columns= word2vec_features_names))"
   ]
  },
  {
   "cell_type": "code",
   "execution_count": 96,
   "id": "faa71d13-20dd-42e6-9fb3-021f0d400cf5",
   "metadata": {},
   "outputs": [
    {
     "ename": "NameError",
     "evalue": "name 'train_test_split' is not defined",
     "output_type": "error",
     "traceback": [
      "\u001b[1;31m---------------------------------------------------------------------------\u001b[0m",
      "\u001b[1;31mNameError\u001b[0m                                 Traceback (most recent call last)",
      "Cell \u001b[1;32mIn[96], line 1\u001b[0m\n\u001b[1;32m----> 1\u001b[0m X_train, X_test, y_train, y_test \u001b[38;5;241m=\u001b[39m train_test_split(X, y, test_size \u001b[38;5;241m=\u001b[39m \u001b[38;5;241m0.2\u001b[39m, random_state \u001b[38;5;241m=\u001b[39m\u001b[38;5;241m42\u001b[39m, stratify \u001b[38;5;241m=\u001b[39m y)\n",
      "\u001b[1;31mNameError\u001b[0m: name 'train_test_split' is not defined"
     ]
    }
   ],
   "source": [
    "X_train, X_test, y_train, y_test = train_test_split(X, y, test_size = 0.2, random_state =42, stratify = y)"
   ]
  },
  {
   "cell_type": "code",
   "execution_count": null,
   "id": "b1c0860a-0848-49f4-adaa-ddac81e2aa0d",
   "metadata": {},
   "outputs": [],
   "source": []
  }
 ],
 "metadata": {
  "kernelspec": {
   "display_name": "Python 3 (ipykernel)",
   "language": "python",
   "name": "python3"
  },
  "language_info": {
   "codemirror_mode": {
    "name": "ipython",
    "version": 3
   },
   "file_extension": ".py",
   "mimetype": "text/x-python",
   "name": "python",
   "nbconvert_exporter": "python",
   "pygments_lexer": "ipython3",
   "version": "3.11.7"
  }
 },
 "nbformat": 4,
 "nbformat_minor": 5
}
